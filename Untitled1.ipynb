{
 "cells": [
  {
   "cell_type": "code",
   "execution_count": 1,
   "id": "foreign-minnesota",
   "metadata": {},
   "outputs": [
    {
     "name": "stderr",
     "output_type": "stream",
     "text": [
      "/var/folders/w_/689yd7mn3n13h13b5d7qpzdw0000gn/T/ipykernel_51482/3206432357.py:24: DeprecationWarning: executable_path has been deprecated, please pass in a Service object\n",
      "  driver = webdriver.Chrome(ChromeDriverManager().install())\n"
     ]
    }
   ],
   "source": [
    "import pandas as pd\n",
    "import numpy as np\n",
    "from bs4 import BeautifulSoup\n",
    "import requests \n",
    "from selenium import webdriver\n",
    "from selenium.webdriver.common.by import By\n",
    "from webdriver_manager.chrome import ChromeDriverManager\n",
    "import re\n",
    "import time as t\n",
    "import random\n",
    "from itertools import compress \n",
    "from itertools import chain\n",
    "\n",
    "from sportsbooks import cleanMoneylineData\n",
    "from sportsbooks import getJuice\n",
    "from sportsbooks import getCasinoProfit\n",
    "from sportsbooks import getImpliedOdds\n",
    "from sportsbooks import is_number\n",
    "from sportsbooks import getCutoffMoneyLine\n",
    "from sportsbooks import getKellyBet\n",
    "\n",
    "\n",
    "#bet-mgm\n",
    "driver = webdriver.Chrome(ChromeDriverManager().install())\n",
    "driver.get(\"https://sports.co.betmgm.com/en/sports/mma-45/betting/usa-9\")\n",
    "t.sleep(random.randint(10, 20))\n",
    "betmgm_odds_html = driver.find_elements(By.CSS_SELECTOR,'.option-indicator')\n",
    "betmgm_names_html = driver.find_elements(By.CSS_SELECTOR,'.participants-pair-game')\n",
    "length_of_bet_mgm_odds = len([x.text for x in betmgm_odds_html])\n",
    "betmgm_odds = [x.text for x in betmgm_odds_html if x != ''][(length_of_bet_mgm_odds- (len(betmgm_names_html) * 2)):]\n",
    "betmgm_names = [x.text.split('\\n') for x in betmgm_names_html]\n",
    "betmgm_names = list(chain(*[[x[0], x[1]] for x in betmgm_names]))\n",
    "betmgm_names = [x[:-3] for x in betmgm_names if x != '']\n",
    "betmgm_df = cleanMoneylineData(betmgm_names, betmgm_odds, \"betmgm\") "
   ]
  },
  {
   "cell_type": "code",
   "execution_count": 21,
   "id": "million-billion",
   "metadata": {},
   "outputs": [
    {
     "name": "stderr",
     "output_type": "stream",
     "text": [
      "/var/folders/w_/689yd7mn3n13h13b5d7qpzdw0000gn/T/ipykernel_51482/3879953554.py:2: DeprecationWarning: executable_path has been deprecated, please pass in a Service object\n",
      "  driver = webdriver.Chrome(ChromeDriverManager().install())\n"
     ]
    }
   ],
   "source": [
    "\n",
    "\n",
    "#caesars\n",
    "driver = webdriver.Chrome(ChromeDriverManager().install())\n",
    "driver.get(\"https://www.williamhill.com/us/nj/bet/ufcmma/events/all\")\n",
    "t.sleep(random.randint(10, 20))\n",
    "betcaesars_names_html = driver.find_elements(By.CSS_SELECTOR, '.eventInfo') \n",
    "betcaesars_odds_html = driver.find_elements(By.CSS_SELECTOR, '.SelectionOption')\n",
    "betcaesars_odds = [x.text for x in betcaesars_odds_html]\n",
    "betcaesars_names = [x.text for x in betcaesars_names_html]\n",
    "caesars_df = cleanMoneylineData(betcaesars_names, betcaesars_odds, \"caesars\") \n"
   ]
  },
  {
   "cell_type": "code",
   "execution_count": 22,
   "id": "incorporated-logging",
   "metadata": {},
   "outputs": [],
   "source": [
    "driver.find_elements(By.CSS_SELECTOR, '.unexpanded') \n"
   ]
  },
  {
   "cell_type": "code",
   "execution_count": 24,
   "id": "interior-consideration",
   "metadata": {},
   "outputs": [
    {
     "data": {
      "text/plain": [
       "[None, None, None, None, None]"
      ]
     },
     "execution_count": 24,
     "metadata": {},
     "output_type": "execute_result"
    }
   ],
   "source": [
    "[x.click() for x in button]\n"
   ]
  }
 ],
 "metadata": {
  "kernelspec": {
   "display_name": "Python 3 (ipykernel)",
   "language": "python",
   "name": "python3"
  },
  "language_info": {
   "codemirror_mode": {
    "name": "ipython",
    "version": 3
   },
   "file_extension": ".py",
   "mimetype": "text/x-python",
   "name": "python",
   "nbconvert_exporter": "python",
   "pygments_lexer": "ipython3",
   "version": "3.10.8"
  }
 },
 "nbformat": 4,
 "nbformat_minor": 5
}
